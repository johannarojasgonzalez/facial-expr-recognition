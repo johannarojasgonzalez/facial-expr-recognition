{
  "nbformat": 4,
  "nbformat_minor": 0,
  "metadata": {
    "colab": {
      "name": "FER.ipynb",
      "version": "0.3.2",
      "provenance": [],
      "include_colab_link": true
    },
    "kernelspec": {
      "name": "python3",
      "display_name": "Python 3"
    },
    "accelerator": "GPU"
  },
  "cells": [
    {
      "cell_type": "markdown",
      "metadata": {
        "id": "view-in-github",
        "colab_type": "text"
      },
      "source": [
        "<a href=\"https://colab.research.google.com/github/jrojasgon/facial-expr-recognition/blob/master/FER.ipynb\" target=\"_parent\"><img src=\"https://colab.research.google.com/assets/colab-badge.svg\" alt=\"Open In Colab\"/></a>"
      ]
    },
    {
      "cell_type": "code",
      "metadata": {
        "id": "sUgqytvVZEVQ",
        "colab_type": "code",
        "outputId": "460020c7-bfc8-4cf1-dd97-a00fef019b7f",
        "colab": {
          "base_uri": "https://localhost:8080/",
          "height": 122
        }
      },
      "source": [
        "# Load the Drive helper and mount\n",
        "from google.colab import drive\n",
        "\n",
        "# This will prompt for authorization.\n",
        "drive.mount('/content/drive')"
      ],
      "execution_count": 0,
      "outputs": [
        {
          "output_type": "stream",
          "text": [
            "Go to this URL in a browser: https://accounts.google.com/o/oauth2/auth?client_id=947318989803-6bn6qk8qdgf4n4g3pfee6491hc0brc4i.apps.googleusercontent.com&redirect_uri=urn%3Aietf%3Awg%3Aoauth%3A2.0%3Aoob&scope=email%20https%3A%2F%2Fwww.googleapis.com%2Fauth%2Fdocs.test%20https%3A%2F%2Fwww.googleapis.com%2Fauth%2Fdrive%20https%3A%2F%2Fwww.googleapis.com%2Fauth%2Fdrive.photos.readonly%20https%3A%2F%2Fwww.googleapis.com%2Fauth%2Fpeopleapi.readonly&response_type=code\n",
            "\n",
            "Enter your authorization code:\n",
            "··········\n",
            "Mounted at /content/drive\n"
          ],
          "name": "stdout"
        }
      ]
    },
    {
      "cell_type": "code",
      "metadata": {
        "id": "chjD1CdgZVtC",
        "colab_type": "code",
        "cellView": "code",
        "colab": {}
      },
      "source": [
        "#@title Default title text\n",
        "from __future__ import print_function, division\n",
        "from builtins import range\n",
        "# Note: you may need to update your version of future\n",
        "# sudo pip install -U future\n",
        "\n",
        "import numpy as np\n",
        "import pandas as pd\n",
        "\n",
        "\n",
        "def getData():\n",
        "    # images are 48x48 = 2304 size vectors\n",
        "    Y = []\n",
        "    X = []\n",
        "    first = True\n",
        "    for line in open('/content/drive/My Drive/Colab Notebooks/FER/fer2013.csv'):\n",
        "        if first:\n",
        "            first = False\n",
        "        else:\n",
        "            row = line.split(',')\n",
        "            Y.append(int(row[0]))\n",
        "            X.append([int(p) for p in row[1].split()])\n",
        "\n",
        "    X, Y = np.array(X) / 255.0, np.array(Y)\n",
        "\n",
        "    return X, Y\n",
        "\n",
        "\n",
        "def getImageData():\n",
        "    X, Y = getData()\n",
        "    N, D = X.shape\n",
        "    d = int(np.sqrt(D))\n",
        "    print(d)\n",
        "    X = X.reshape(N, 1, d, d)\n",
        "    return X, Y\n",
        "  \n",
        "def y2indicator(y):\n",
        "    N = len(y)\n",
        "    K = len(set(y))\n",
        "    ind = np.zeros((N, K))\n",
        "    for i in range(N):\n",
        "        ind[i, y[i]] = 1\n",
        "    return ind\n"
      ],
      "execution_count": 0,
      "outputs": []
    },
    {
      "cell_type": "code",
      "metadata": {
        "id": "AdacfzUwc4mZ",
        "colab_type": "code",
        "colab": {}
      },
      "source": [
        "from __future__ import print_function, division\n",
        "from builtins import range, input\n",
        "# Note: you may need to update your version of future\n",
        "# sudo pip install -U future\n",
        "\n",
        "import numpy as np\n",
        "import matplotlib.pyplot as plt\n",
        "\n",
        "label_map = ['Anger', 'Disgust', 'Fear', 'Happy', 'Sad', 'Surprise', 'Neutral']\n",
        "\n",
        "def main():\n",
        "    X, Y = getData()\n",
        "\n",
        "    while True:\n",
        "        for i in range(7):\n",
        "            x, y = X[Y==i], Y[Y==i]\n",
        "            N = len(y)\n",
        "            j = np.random.choice(N)\n",
        "            plt.imshow(x[j].reshape(48, 48), cmap='gray')\n",
        "            plt.title(label_map[y[j]])\n",
        "            plt.show()\n",
        "        prompt = input('Quit? Enter Y:\\n')\n",
        "        if prompt == 'Y':\n",
        "            break\n",
        "\n",
        "\n",
        "if __name__ == '__main__':\n",
        "    main()"
      ],
      "execution_count": 0,
      "outputs": []
    },
    {
      "cell_type": "code",
      "metadata": {
        "id": "EUoQ6lY1d1by",
        "colab_type": "code",
        "outputId": "1ab53c52-6289-410c-e130-96405abce2b4",
        "colab": {
          "base_uri": "https://localhost:8080/",
          "height": 1564
        }
      },
      "source": [
        "  from sklearn.utils import shuffle\n",
        "\n",
        "  # make a validation set\n",
        "  X, Y = getImageData()\n",
        "  # reshape X for tf: N x w x h x c\n",
        "  X = X.transpose((0, 2, 3, 1))\n",
        "  \n",
        "  X, Y = shuffle(X, Y)\n",
        "  X = X.astype(np.float32)\n",
        "  Y = y2indicator(Y).astype(np.float32)\n",
        "\n",
        "  Xvalid, Yvalid = X[-1000:], Y[-1000:]\n",
        "  X, Y = X[:-1000], Y[:-1000]\n",
        "  Yvalid_flat = np.argmax(Yvalid, axis=1) # for calculating error rate\n",
        "  \n",
        "  #print(\"X.shape:\", X.shape[0])\n",
        " "
      ],
      "execution_count": 0,
      "outputs": [
        {
          "output_type": "stream",
          "text": [
            "[[[[0.2745098  0.31372549 0.32156863 ... 0.20392157 0.16862745\n",
            "    0.16078431]\n",
            "   [0.25490196 0.23921569 0.22745098 ... 0.21960784 0.20392157\n",
            "    0.17254902]\n",
            "   [0.19607843 0.16862745 0.21176471 ... 0.19215686 0.21960784\n",
            "    0.18431373]\n",
            "   ...\n",
            "   [0.35686275 0.25490196 0.16470588 ... 0.28235294 0.21960784\n",
            "    0.16862745]\n",
            "   [0.30196078 0.32156863 0.30980392 ... 0.41176471 0.2745098\n",
            "    0.18039216]\n",
            "   [0.30196078 0.28235294 0.32941176 ... 0.41568627 0.42745098\n",
            "    0.32156863]]]\n",
            "\n",
            "\n",
            " [[[0.59215686 0.58823529 0.57647059 ... 0.50588235 0.54901961\n",
            "    0.47058824]\n",
            "   [0.59215686 0.58431373 0.58431373 ... 0.47843137 0.55294118\n",
            "    0.5372549 ]\n",
            "   [0.59215686 0.59215686 0.61176471 ... 0.42745098 0.48235294\n",
            "    0.57254902]\n",
            "   ...\n",
            "   [0.7372549  0.7372549  0.4745098  ... 0.7254902  0.7254902\n",
            "    0.72941176]\n",
            "   [0.7372549  0.73333333 0.76862745 ... 0.72941176 0.71372549\n",
            "    0.73333333]\n",
            "   [0.72941176 0.72156863 0.7254902  ... 0.75686275 0.71764706\n",
            "    0.72156863]]]\n",
            "\n",
            "\n",
            " [[[0.90588235 0.83137255 0.61176471 ... 0.17254902 0.10588235\n",
            "    0.0627451 ]\n",
            "   [0.89803922 0.68627451 0.58039216 ... 0.10588235 0.1372549\n",
            "    0.10588235]\n",
            "   [0.83921569 0.61176471 0.61568627 ... 0.10980392 0.08627451\n",
            "    0.10980392]\n",
            "   ...\n",
            "   [0.94509804 0.96078431 0.98039216 ... 0.22352941 0.39607843\n",
            "    0.57254902]\n",
            "   [0.96470588 0.98039216 0.98823529 ... 0.30588235 0.41176471\n",
            "    0.63529412]\n",
            "   [0.98039216 0.98431373 0.98039216 ... 0.34509804 0.43137255\n",
            "    0.59607843]]]\n",
            "\n",
            "\n",
            " ...\n",
            "\n",
            "\n",
            " [[[0.22745098 0.3254902  0.38039216 ... 0.1254902  0.08627451\n",
            "    0.09019608]\n",
            "   [0.28235294 0.36470588 0.39607843 ... 0.11764706 0.09803922\n",
            "    0.09019608]\n",
            "   [0.34117647 0.38431373 0.40392157 ... 0.10196078 0.11372549\n",
            "    0.10588235]\n",
            "   ...\n",
            "   [0.22745098 0.22745098 0.18431373 ... 0.63921569 0.50588235\n",
            "    0.12941176]\n",
            "   [0.23137255 0.23529412 0.18039216 ... 0.59215686 0.23921569\n",
            "    0.05098039]\n",
            "   [0.23137255 0.22745098 0.19607843 ... 0.38431373 0.0745098\n",
            "    0.07058824]]]\n",
            "\n",
            "\n",
            " [[[0.22745098 0.3254902  0.38039216 ... 0.1254902  0.08627451\n",
            "    0.09019608]\n",
            "   [0.28235294 0.36470588 0.39607843 ... 0.11764706 0.09803922\n",
            "    0.09019608]\n",
            "   [0.34117647 0.38431373 0.40392157 ... 0.10196078 0.11372549\n",
            "    0.10588235]\n",
            "   ...\n",
            "   [0.22745098 0.22745098 0.18431373 ... 0.63921569 0.50588235\n",
            "    0.12941176]\n",
            "   [0.23137255 0.23529412 0.18039216 ... 0.59215686 0.23921569\n",
            "    0.05098039]\n",
            "   [0.23137255 0.22745098 0.19607843 ... 0.38431373 0.0745098\n",
            "    0.07058824]]]\n",
            "\n",
            "\n",
            " [[[0.22745098 0.3254902  0.38039216 ... 0.1254902  0.08627451\n",
            "    0.09019608]\n",
            "   [0.28235294 0.36470588 0.39607843 ... 0.11764706 0.09803922\n",
            "    0.09019608]\n",
            "   [0.34117647 0.38431373 0.40392157 ... 0.10196078 0.11372549\n",
            "    0.10588235]\n",
            "   ...\n",
            "   [0.22745098 0.22745098 0.18431373 ... 0.63921569 0.50588235\n",
            "    0.12941176]\n",
            "   [0.23137255 0.23529412 0.18039216 ... 0.59215686 0.23921569\n",
            "    0.05098039]\n",
            "   [0.23137255 0.22745098 0.19607843 ... 0.38431373 0.0745098\n",
            "    0.07058824]]]]\n"
          ],
          "name": "stdout"
        }
      ]
    },
    {
      "cell_type": "code",
      "metadata": {
        "id": "Es1KtZRdh-LZ",
        "colab_type": "code",
        "outputId": "e4ff3291-ffe5-48f7-ec37-848a9bd0cc09",
        "colab": {
          "base_uri": "https://localhost:8080/",
          "height": 1496
        }
      },
      "source": [
        "#create the model\n",
        "# https://github.com/nhduong/fer2013/blob/master/fer2013.ipynb\n",
        "from tensorflow.python.keras.optimizers import Adam\n",
        "from tensorflow.python.keras.models import Sequential\n",
        "from tensorflow.python.keras.layers import Dropout, Flatten, Dense, Activation\n",
        "from tensorflow.python.keras.layers import  Conv2D, MaxPooling2D\n",
        "from tensorflow.python.keras.callbacks import EarlyStopping\n",
        "from tensorflow.python.keras.regularizers import l1, l2\n",
        "from keras.callbacks import History \n",
        "\n",
        "n_inputs = 2304\n",
        "n_classes = 7\n",
        "img_dim = 48\n",
        "model = Sequential()\n",
        "history = History()\n",
        "#model.add(Conv2D(64, (3, 3), activation='relu', padding='same', input_shape = (48, 48, 1)))\n",
        "#model.add(Conv2D(64, (3, 3), activation='relu'))\n",
        "#model.add(MaxPooling2D(pool_size=(2, 2)))\n",
        "#model.add(Dropout(0.25))\n",
        "\n",
        "#model.add(Conv2D(128, (3, 3), activation='relu', padding='same'))\n",
        "#model.add(Conv2D(128, (3, 3), activation='relu'))\n",
        "#model.add(Conv2D(256, (3, 3), activation='relu', padding='same'))\n",
        "#model.add(Conv2D(256, (3, 3), activation='relu'))\n",
        "\n",
        "#model.add(MaxPooling2D(pool_size=(2, 2)))\n",
        "#model.add(Dropout(0.25))\n",
        "\n",
        "#model.add(Conv2D(96, (3, 3), activation='relu', padding='same', input_shape = (48, 48, 1)))\n",
        "#model.add(MaxPooling2D(pool_size=(2, 2)))\n",
        "#model.add(Conv2D(256, (3, 3), activation='relu'))\n",
        "#model.add(MaxPooling2D(pool_size=(2, 2)))\n",
        "#model.add(Conv2D(384, (3, 3), activation='relu'))\n",
        "#model.add(Conv2D(384, (3, 3), activation='relu'))\n",
        "#model.add(Conv2D(256, (3, 3), activation='relu'))\n",
        "#model.add(MaxPooling2D(pool_size=(2, 2)))\n",
        "\n",
        "\n",
        "model.add(Conv2D(8, (3, 3), activation='relu', padding='same', input_shape = (48, 48, 1)))\n",
        "model.add(Conv2D(8, (3, 3), activation='relu'))\n",
        "#model.add(MaxPooling2D(pool_size=(2, 2)))\n",
        "model.add(Conv2D(16, (3, 3), activation='relu'))\n",
        "model.add(Conv2D(16, (3, 3), activation='relu'))\n",
        "model.add(MaxPooling2D(pool_size=(2, 2)))\n",
        "model.add(Conv2D(32, (3, 3), activation='relu'))\n",
        "model.add(Conv2D(32, (3, 3), activation='relu'))\n",
        "model.add(Conv2D(64, (3, 3), activation='relu'))\n",
        "model.add(Conv2D(64, (3, 3), activation='relu'))\n",
        "model.add(MaxPooling2D(pool_size=(2, 2)))\n",
        "model.add(Conv2D(128, (3, 3), activation='relu'))\n",
        "model.add(Conv2D(128, (3, 3), activation='relu'))\n",
        "model.add(MaxPooling2D(pool_size=(2, 2)))\n",
        "\n",
        "model.add(Flatten())\n",
        "model.add(Dense(1024, activation='relu', kernel_regularizer=l2(0.001)))\n",
        "model.add(Dropout(0.5))\n",
        "model.add(Dense(1024, activation='relu', kernel_regularizer=l2(0.001)))\n",
        "model.add(Dropout(0.25))\n",
        "model.add(Dense(n_classes, activation='softmax'))\n",
        "\n",
        "opt = Adam(lr=0.0001, decay=10e-6)\n",
        "model.compile(loss='categorical_crossentropy', optimizer=opt, metrics=['accuracy'])\n",
        "\n",
        "batch_size = 128\n",
        "n_epoches = 100\n",
        "\n",
        "early_stopping = EarlyStopping(monitor='val_loss', patience=20)\n",
        "\n",
        "hist = model.fit(X, Y, batch_size=batch_size, epochs=n_epoches,\n",
        "          validation_data=(Xvalid, Yvalid), shuffle=True,\n",
        "          callbacks=[early_stopping])\n",
        "\n",
        "\n",
        "\n"
      ],
      "execution_count": 0,
      "outputs": [
        {
          "output_type": "stream",
          "text": [
            "Train on 39263 samples, validate on 1000 samples\n",
            "Epoch 1/100\n",
            "39263/39263 [==============================] - 17s 434us/sample - loss: 2.5964 - acc: 0.2234 - val_loss: 2.2505 - val_acc: 0.2020\n",
            "Epoch 2/100\n",
            "39263/39263 [==============================] - 16s 407us/sample - loss: 2.0983 - acc: 0.2234 - val_loss: 2.0156 - val_acc: 0.1980\n",
            "Epoch 3/100\n",
            "39263/39263 [==============================] - 16s 400us/sample - loss: 1.8631 - acc: 0.2981 - val_loss: 1.7625 - val_acc: 0.3520\n",
            "Epoch 4/100\n",
            "39263/39263 [==============================] - 16s 398us/sample - loss: 1.6858 - acc: 0.3812 - val_loss: 1.6320 - val_acc: 0.3750\n",
            "Epoch 5/100\n",
            "39263/39263 [==============================] - 16s 396us/sample - loss: 1.5836 - acc: 0.4214 - val_loss: 1.5332 - val_acc: 0.4320\n",
            "Epoch 6/100\n",
            "39263/39263 [==============================] - 16s 397us/sample - loss: 1.4985 - acc: 0.4514 - val_loss: 1.4700 - val_acc: 0.4530\n",
            "Epoch 7/100\n",
            "39263/39263 [==============================] - 16s 411us/sample - loss: 1.4290 - acc: 0.4740 - val_loss: 1.3966 - val_acc: 0.4880\n",
            "Epoch 8/100\n",
            "39263/39263 [==============================] - 16s 399us/sample - loss: 1.3585 - acc: 0.4970 - val_loss: 1.3474 - val_acc: 0.4980\n",
            "Epoch 9/100\n",
            "39263/39263 [==============================] - 16s 410us/sample - loss: 1.3101 - acc: 0.5167 - val_loss: 1.3213 - val_acc: 0.5150\n",
            "Epoch 10/100\n",
            "39263/39263 [==============================] - 16s 410us/sample - loss: 1.2699 - acc: 0.5287 - val_loss: 1.2884 - val_acc: 0.5130\n",
            "Epoch 11/100\n",
            "39263/39263 [==============================] - 16s 404us/sample - loss: 1.2317 - acc: 0.5440 - val_loss: 1.2408 - val_acc: 0.5310\n",
            "Epoch 12/100\n",
            "39263/39263 [==============================] - 16s 396us/sample - loss: 1.2093 - acc: 0.5498 - val_loss: 1.2358 - val_acc: 0.5260\n",
            "Epoch 13/100\n",
            "39263/39263 [==============================] - 16s 402us/sample - loss: 1.1813 - acc: 0.5581 - val_loss: 1.2553 - val_acc: 0.5290\n",
            "Epoch 14/100\n",
            "39263/39263 [==============================] - 16s 407us/sample - loss: 1.1630 - acc: 0.5659 - val_loss: 1.2248 - val_acc: 0.5260\n",
            "Epoch 15/100\n",
            "39263/39263 [==============================] - 16s 399us/sample - loss: 1.1405 - acc: 0.5766 - val_loss: 1.2379 - val_acc: 0.5240\n",
            "Epoch 16/100\n",
            "39263/39263 [==============================] - 16s 409us/sample - loss: 1.1244 - acc: 0.5823 - val_loss: 1.2083 - val_acc: 0.5270\n",
            "Epoch 17/100\n",
            "39263/39263 [==============================] - 16s 407us/sample - loss: 1.1059 - acc: 0.5884 - val_loss: 1.1934 - val_acc: 0.5510\n",
            "Epoch 18/100\n",
            "39263/39263 [==============================] - 15s 392us/sample - loss: 1.0915 - acc: 0.5935 - val_loss: 1.1930 - val_acc: 0.5460\n",
            "Epoch 19/100\n",
            "39263/39263 [==============================] - 16s 410us/sample - loss: 1.0800 - acc: 0.6007 - val_loss: 1.1958 - val_acc: 0.5420\n",
            "Epoch 20/100\n",
            "39263/39263 [==============================] - 16s 408us/sample - loss: 1.0572 - acc: 0.6098 - val_loss: 1.1794 - val_acc: 0.5460\n",
            "Epoch 21/100\n",
            "39263/39263 [==============================] - 16s 396us/sample - loss: 1.0424 - acc: 0.6155 - val_loss: 1.1742 - val_acc: 0.5530\n",
            "Epoch 22/100\n",
            "39263/39263 [==============================] - 16s 407us/sample - loss: 1.0305 - acc: 0.6217 - val_loss: 1.1734 - val_acc: 0.5500\n",
            "Epoch 23/100\n",
            "39263/39263 [==============================] - 16s 410us/sample - loss: 1.0161 - acc: 0.6272 - val_loss: 1.1635 - val_acc: 0.5620\n",
            "Epoch 24/100\n",
            "39263/39263 [==============================] - 16s 395us/sample - loss: 1.0009 - acc: 0.6339 - val_loss: 1.1914 - val_acc: 0.5470\n",
            "Epoch 25/100\n",
            "39263/39263 [==============================] - 16s 397us/sample - loss: 0.9874 - acc: 0.6392 - val_loss: 1.1822 - val_acc: 0.5560\n",
            "Epoch 26/100\n",
            "39263/39263 [==============================] - 16s 400us/sample - loss: 0.9721 - acc: 0.6458 - val_loss: 1.1807 - val_acc: 0.5590\n",
            "Epoch 27/100\n",
            "39263/39263 [==============================] - 16s 411us/sample - loss: 0.9529 - acc: 0.6533 - val_loss: 1.1994 - val_acc: 0.5630\n",
            "Epoch 28/100\n",
            "39263/39263 [==============================] - 16s 405us/sample - loss: 0.9368 - acc: 0.6620 - val_loss: 1.2033 - val_acc: 0.5520\n",
            "Epoch 29/100\n",
            "39263/39263 [==============================] - 15s 392us/sample - loss: 0.9261 - acc: 0.6654 - val_loss: 1.2005 - val_acc: 0.5700\n",
            "Epoch 30/100\n",
            "39263/39263 [==============================] - 16s 401us/sample - loss: 0.9081 - acc: 0.6724 - val_loss: 1.1952 - val_acc: 0.5560\n",
            "Epoch 31/100\n",
            "39263/39263 [==============================] - 16s 413us/sample - loss: 0.8949 - acc: 0.6816 - val_loss: 1.1841 - val_acc: 0.5590\n",
            "Epoch 32/100\n",
            "39263/39263 [==============================] - 16s 410us/sample - loss: 0.8788 - acc: 0.6845 - val_loss: 1.2242 - val_acc: 0.5640\n",
            "Epoch 33/100\n",
            "39263/39263 [==============================] - 16s 402us/sample - loss: 0.8597 - acc: 0.6930 - val_loss: 1.2137 - val_acc: 0.5800\n",
            "Epoch 34/100\n",
            "39263/39263 [==============================] - 16s 406us/sample - loss: 0.8487 - acc: 0.6975 - val_loss: 1.2584 - val_acc: 0.5560\n",
            "Epoch 35/100\n",
            "39263/39263 [==============================] - 16s 398us/sample - loss: 0.8287 - acc: 0.7060 - val_loss: 1.2278 - val_acc: 0.5630\n",
            "Epoch 36/100\n",
            "39263/39263 [==============================] - 16s 409us/sample - loss: 0.8189 - acc: 0.7128 - val_loss: 1.3115 - val_acc: 0.5470\n",
            "Epoch 37/100\n",
            "39263/39263 [==============================] - 16s 406us/sample - loss: 0.7961 - acc: 0.7198 - val_loss: 1.2595 - val_acc: 0.5650\n",
            "Epoch 38/100\n",
            "39263/39263 [==============================] - 16s 402us/sample - loss: 0.7819 - acc: 0.7241 - val_loss: 1.2764 - val_acc: 0.5580\n",
            "Epoch 39/100\n",
            "39263/39263 [==============================] - 16s 407us/sample - loss: 0.7706 - acc: 0.7288 - val_loss: 1.2637 - val_acc: 0.5720\n",
            "Epoch 40/100\n",
            "39263/39263 [==============================] - 16s 407us/sample - loss: 0.7463 - acc: 0.7382 - val_loss: 1.3076 - val_acc: 0.5710\n",
            "Epoch 41/100\n",
            "39263/39263 [==============================] - 16s 397us/sample - loss: 0.7352 - acc: 0.7440 - val_loss: 1.3255 - val_acc: 0.5730\n",
            "Epoch 42/100\n",
            "39263/39263 [==============================] - 16s 396us/sample - loss: 0.7241 - acc: 0.7495 - val_loss: 1.3272 - val_acc: 0.5670\n",
            "Epoch 43/100\n",
            "39263/39263 [==============================] - 16s 403us/sample - loss: 0.6992 - acc: 0.7614 - val_loss: 1.3619 - val_acc: 0.5720\n"
          ],
          "name": "stdout"
        }
      ]
    },
    {
      "cell_type": "code",
      "metadata": {
        "id": "SoNVl3mSpWOP",
        "colab_type": "code",
        "outputId": "535cf4d5-fa95-4d9b-9771-dfbbc0e8606e",
        "colab": {
          "base_uri": "https://localhost:8080/",
          "height": 51
        }
      },
      "source": [
        "\n",
        "# evaluate the model\n",
        "scores = model.evaluate(Xvalid, Yvalid)\n",
        "print('%s: %.2f%%'% (model.metrics_names[1], scores[1]*100))\n",
        "\n",
        "model.save('fer2013_3.h5')\n",
        "model.save_weights('fer2013_weights_3.h5')\n",
        "\n"
      ],
      "execution_count": 0,
      "outputs": [
        {
          "output_type": "stream",
          "text": [
            "1000/1000 [==============================] - 0s 332us/sample - loss: 1.3619 - acc: 0.5720\n",
            "acc: 57.20%\n"
          ],
          "name": "stdout"
        }
      ]
    },
    {
      "cell_type": "code",
      "metadata": {
        "id": "gu9gKOkm3SQR",
        "colab_type": "code",
        "outputId": "6fdbea44-9f31-4a54-b42f-8f344dd6f391",
        "colab": {
          "base_uri": "https://localhost:8080/",
          "height": 51
        }
      },
      "source": [
        "# load training model\n",
        "\n",
        "model.load_weights('fer2013_weights_3.h5')\n",
        "\n",
        "scores = model.evaluate(Xvalid, Yvalid)\n",
        "print('%s: %.2f%%'% (model.metrics_names[1], scores[1]*100))"
      ],
      "execution_count": 0,
      "outputs": [
        {
          "output_type": "stream",
          "text": [
            "1000/1000 [==============================] - 0s 446us/sample - loss: 1.6811 - acc: 0.6660\n",
            "acc: 66.60%\n"
          ],
          "name": "stdout"
        }
      ]
    },
    {
      "cell_type": "code",
      "metadata": {
        "id": "-C0bbswJ4zx1",
        "colab_type": "code",
        "colab": {}
      },
      "source": [
        "def get_emotion(ohv):\n",
        "    if ohv.shape[0] == 1:\n",
        "        indx = ohv[0]\n",
        "    else:\n",
        "        indx = np.argmax(ohv)\n",
        "        \n",
        "    if indx == 0:\n",
        "        return 'angry'\n",
        "    elif indx == 1:\n",
        "        return 'disgust'\n",
        "    elif indx == 2:\n",
        "        return 'fear'\n",
        "    elif indx == 3:\n",
        "        return 'happy'\n",
        "    elif indx == 4:\n",
        "        return 'sad'\n",
        "    elif indx == 5:\n",
        "        return 'surprise'\n",
        "    elif indx == 6:\n",
        "        return 'neutral'"
      ],
      "execution_count": 0,
      "outputs": []
    },
    {
      "cell_type": "code",
      "metadata": {
        "id": "8lrs_9HQ3qS8",
        "colab_type": "code",
        "outputId": "53b8f358-35c6-4a70-cfc5-db73ae56e5ca",
        "colab": {
          "base_uri": "https://localhost:8080/",
          "height": 399
        }
      },
      "source": [
        "# test model\n",
        "import matplotlib.pyplot as plt\n",
        "img_index=20\n",
        "sample = Xvalid[img_index, :]\n",
        "sample = sample.reshape(48, 48)\n",
        "\n",
        "\n",
        "pred_cls = model.predict_classes(sample.reshape(1, 48, 48, 1))\n",
        "\n",
        "plt.imshow(sample, cmap='gray')\n",
        "plt.show()\n",
        "print('> testing image index: %d\\n> true emotion: %s\\n> predicted emotion: %s' % (img_index, get_emotion(Yvalid[img_index, :]), get_emotion(pred_cls)))"
      ],
      "execution_count": 0,
      "outputs": [
        {
          "output_type": "display_data",
          "data": {
            "image/png": "[encoded data removed]",
            "text/plain": [
              "<Figure size 576x396 with 1 Axes>"
            ]
          },
          "metadata": {
            "tags": []
          }
        },
        {
          "output_type": "stream",
          "text": [
            "> testing image index: 20\n",
            "> true emotion: angry\n",
            "> predicted emotion: angry\n"
          ],
          "name": "stdout"
        }
      ]
    }
  ]
}